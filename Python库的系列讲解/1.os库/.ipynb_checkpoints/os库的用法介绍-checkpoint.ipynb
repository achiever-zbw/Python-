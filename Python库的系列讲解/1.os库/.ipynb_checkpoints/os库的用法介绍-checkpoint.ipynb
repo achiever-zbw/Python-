{
 "cells": [
  {
   "cell_type": "markdown",
   "id": "6f2177d0-f26b-40a9-a195-3181e7a4e266",
   "metadata": {},
   "source": [
    "# os库"
   ]
  },
  {
   "cell_type": "markdown",
   "id": "49d56fc2",
   "metadata": {},
   "source": [
    "## os库的常见用法"
   ]
  },
  {
   "cell_type": "markdown",
   "id": "0c91b7d9",
   "metadata": {},
   "source": [
    "##### os库是Python的标准库之一，用于与操作系统交互。它提供了丰富的功能，可以执行诸如文件和目录操作、路径处理、环境变量管理、运行系统命令等任务，使 Python 程序具备与底层操作系统协作的能力。\n",
    "\n",
    "##### 主要功能涉及文件和目录的操作、路径操作、系统命令执行、环境变量管理等，具有简单实用、跨平台支持且功能强大的优势，对文件的处理十分便捷\n",
    "\n",
    "##### 调用其中的函数，主要方式为:os.name()"
   ]
  },
  {
   "cell_type": "markdown",
   "id": "f07ac39d-57a2-4ec6-ae0a-f72a3f7d86ba",
   "metadata": {},
   "source": [
    "##### 首先看一下os库中有什么内容"
   ]
  },
  {
   "cell_type": "code",
   "execution_count": 1,
   "id": "4acf0fa9",
   "metadata": {},
   "outputs": [
    {
     "name": "stdout",
     "output_type": "stream",
     "text": [
      "['DirEntry', 'F_OK', 'MutableMapping', 'O_APPEND', 'O_BINARY', 'O_CREAT', 'O_EXCL', 'O_NOINHERIT', 'O_RANDOM', 'O_RDONLY', 'O_RDWR', 'O_SEQUENTIAL', 'O_SHORT_LIVED', 'O_TEMPORARY', 'O_TEXT', 'O_TRUNC', 'O_WRONLY', 'P_DETACH', 'P_NOWAIT', 'P_NOWAITO', 'P_OVERLAY', 'P_WAIT', 'PathLike', 'R_OK', 'SEEK_CUR', 'SEEK_END', 'SEEK_SET', 'TMP_MAX', 'W_OK', 'X_OK', '_AddedDllDirectory', '_Environ', '__all__', '__builtins__', '__cached__', '__doc__', '__file__', '__loader__', '__name__', '__package__', '__spec__', '_check_methods', '_execvpe', '_exists', '_exit', '_fspath', '_get_exports_list', '_putenv', '_unsetenv', '_wrap_close', 'abc', 'abort', 'access', 'add_dll_directory', 'altsep', 'chdir', 'chmod', 'close', 'closerange', 'cpu_count', 'curdir', 'defpath', 'device_encoding', 'devnull', 'dup', 'dup2', 'environ', 'error', 'execl', 'execle', 'execlp', 'execlpe', 'execv', 'execve', 'execvp', 'execvpe', 'extsep', 'fdopen', 'fsdecode', 'fsencode', 'fspath', 'fstat', 'fsync', 'ftruncate', 'get_exec_path', 'get_handle_inheritable', 'get_inheritable', 'get_terminal_size', 'getcwd', 'getcwdb', 'getenv', 'getlogin', 'getpid', 'getppid', 'isatty', 'kill', 'linesep', 'link', 'listdir', 'lseek', 'lstat', 'makedirs', 'mkdir', 'name', 'open', 'pardir', 'path', 'pathsep', 'pipe', 'popen', 'putenv', 'read', 'readlink', 'remove', 'removedirs', 'rename', 'renames', 'replace', 'rmdir', 'scandir', 'sep', 'set_handle_inheritable', 'set_inheritable', 'spawnl', 'spawnle', 'spawnv', 'spawnve', 'st', 'startfile', 'stat', 'stat_result', 'statvfs_result', 'strerror', 'supports_bytes_environ', 'supports_dir_fd', 'supports_effective_ids', 'supports_fd', 'supports_follow_symlinks', 'symlink', 'sys', 'system', 'terminal_size', 'times', 'times_result', 'truncate', 'umask', 'uname_result', 'unlink', 'urandom', 'utime', 'waitpid', 'walk', 'write']\n",
      "['__all__', '__builtins__', '__cached__', '__doc__', '__file__', '__loader__', '__name__', '__package__', '__spec__', '_abspath_fallback', '_get_bothseps', '_getfinalpathname', '_getfinalpathname_nonstrict', '_getfullpathname', '_getvolumepathname', '_nt_readlink', '_readlink_deep', 'abspath', 'altsep', 'basename', 'commonpath', 'commonprefix', 'curdir', 'defpath', 'devnull', 'dirname', 'exists', 'expanduser', 'expandvars', 'extsep', 'genericpath', 'getatime', 'getctime', 'getmtime', 'getsize', 'isabs', 'isdir', 'isfile', 'islink', 'ismount', 'join', 'lexists', 'normcase', 'normpath', 'os', 'pardir', 'pathsep', 'realpath', 'relpath', 'samefile', 'sameopenfile', 'samestat', 'sep', 'split', 'splitdrive', 'splitext', 'stat', 'supports_unicode_filenames', 'sys']\n"
     ]
    }
   ],
   "source": [
    "import os\n",
    "print(dir(os))\n",
    "print(dir(os.path))"
   ]
  },
  {
   "cell_type": "markdown",
   "id": "6fe050b7",
   "metadata": {},
   "source": [
    "## 一、os库的文件与目录操作\n",
    "os库是 Python 处理文件和目录操作的重要模块，提供了丰富的功能来创建、删除、修改和管理文件和目录。以下是 os 库中与文件和目录操作相关的常用方法及其用法。"
   ]
  },
  {
   "cell_type": "markdown",
   "id": "d4765373",
   "metadata": {},
   "source": [
    "**获取当前工作目录 --> os.getcwd()**"
   ]
  },
  {
   "cell_type": "code",
   "execution_count": 2,
   "id": "89bf62bf",
   "metadata": {},
   "outputs": [
    {
     "name": "stdout",
     "output_type": "stream",
     "text": [
      "当前工作目录为:C:\\Users\\赵博文\\Python--Learning\\Python-\\Python库的系列讲解\\1.os库\n"
     ]
    }
   ],
   "source": [
    "import os\n",
    "\n",
    "current_dir = os.getcwd()\n",
    "print(f\"当前工作目录为:{current_dir}\")"
   ]
  },
  {
   "cell_type": "markdown",
   "id": "6bcf4540",
   "metadata": {},
   "source": [
    "**列出目录内容 --> os.listdir()**"
   ]
  },
  {
   "cell_type": "code",
   "execution_count": 3,
   "id": "d880a8b6",
   "metadata": {},
   "outputs": [
    {
     "name": "stdout",
     "output_type": "stream",
     "text": [
      "当前目录内容为:['.ipynb_checkpoints', 'os库的用法介绍.ipynb']\n"
     ]
    }
   ],
   "source": [
    "import os\n",
    "\n",
    "contents=os.listdir(current_dir)\n",
    "print(f\"当前目录内容为:{contents}\")"
   ]
  },
  {
   "cell_type": "markdown",
   "id": "58096c47",
   "metadata": {},
   "source": [
    "**创建与删除目录 --> os.mkdir()  os.makedirs()  os.rmdir()  os.removedirs()**"
   ]
  },
  {
   "cell_type": "code",
   "execution_count": 4,
   "id": "c4fe52fd",
   "metadata": {},
   "outputs": [
    {
     "data": {
      "text/plain": [
       "'\\n单一: os.mkdir(\"dir1\")\\n      os.rmdir(\"dir1\")\\n多级: os.makedirs(\"dir1/dir2/dir3\")\\n      os.removedirs(\"dir1/dir2/dir3\")\\n'"
      ]
     },
     "execution_count": 4,
     "metadata": {},
     "output_type": "execute_result"
    }
   ],
   "source": [
    "import os\n",
    "\n",
    "\"\"\"\n",
    "单一: os.mkdir(\"dir1\")\n",
    "      os.rmdir(\"dir1\")\n",
    "多级: os.makedirs(\"dir1/dir2/dir3\")\n",
    "      os.removedirs(\"dir1/dir2/dir3\")\n",
    "\"\"\""
   ]
  },
  {
   "cell_type": "markdown",
   "id": "095ccf34",
   "metadata": {},
   "source": [
    "**检查路径**\n",
    "\n",
    "返回True或False,判断是否存在，以及是否属于该类型"
   ]
  },
  {
   "cell_type": "code",
   "execution_count": 5,
   "id": "8fe7beb5",
   "metadata": {},
   "outputs": [
    {
     "name": "stdout",
     "output_type": "stream",
     "text": [
      "路径是否存在 True\n",
      "是否是文件 False\n",
      "是否是目录 True\n"
     ]
    }
   ],
   "source": [
    "import os\n",
    "\n",
    "print(\"路径是否存在\", os.path.exists(current_dir))\n",
    "print(\"是否是文件\", os.path.isfile(\"1.os库\"))\n",
    "print(\"是否是目录\", os.path.isdir(current_dir))"
   ]
  },
  {
   "cell_type": "markdown",
   "id": "de978e6f",
   "metadata": {},
   "source": [
    "**获取文件属性**"
   ]
  },
  {
   "cell_type": "code",
   "execution_count": 6,
   "id": "0f667a18",
   "metadata": {},
   "outputs": [
    {
     "name": "stdout",
     "output_type": "stream",
     "text": [
      "文件大小为:12753\n",
      "绝对路径为:C:\\Users\\赵博文\\Python--Learning\\Python-\\Python库的系列讲解\\1.os库\\os库的用法介绍.ipynb\n"
     ]
    }
   ],
   "source": [
    "import os\n",
    "\n",
    "# 获取文件大小(字节)\n",
    "size = os.path.getsize(\"os库的用法介绍.ipynb\")\n",
    "print(f\"文件大小为:{size}\")\n",
    "\n",
    "# 获取稳健的绝对路径\n",
    "abs_path = os.path.abspath(\"os库的用法介绍.ipynb\")\n",
    "print(f\"绝对路径为:{abs_path}\")"
   ]
  },
  {
   "cell_type": "markdown",
   "id": "0f27141c",
   "metadata": {},
   "source": [
    "**文件和目录重命名 --> os.rename()**"
   ]
  },
  {
   "cell_type": "code",
   "execution_count": 7,
   "id": "8c197679",
   "metadata": {},
   "outputs": [
    {
     "name": "stdout",
     "output_type": "stream",
     "text": [
      "文件已经重新命名为:'new_test.txt'\n"
     ]
    }
   ],
   "source": [
    "import os\n",
    "\n",
    "# 我们先创建一个测试用的文件\n",
    "test_filename = \"test.txt\"\n",
    "testfile_path = os.path.join(current_dir, test_filename)\n",
    "with open(testfile_path, \"w\") as file:\n",
    "    file.write(\"这是在新创建的用于测试的文件！\\n\")\n",
    "\n",
    "os.rename(\"test.txt\", \"new_test.txt\")\n",
    "print(\"文件已经重新命名为:'new_test.txt'\")"
   ]
  },
  {
   "cell_type": "markdown",
   "id": "3c77d5a8",
   "metadata": {},
   "source": [
    "**删除文件 --> os.remove()**"
   ]
  },
  {
   "cell_type": "code",
   "execution_count": 8,
   "id": "3700c8f4",
   "metadata": {},
   "outputs": [
    {
     "name": "stdout",
     "output_type": "stream",
     "text": [
      "已删除\n"
     ]
    }
   ],
   "source": [
    "import os\n",
    "\n",
    "os.remove(\"new_test.txt\")\n",
    "print(\"已删除\")"
   ]
  },
  {
   "cell_type": "markdown",
   "id": "7703bec4",
   "metadata": {},
   "source": [
    "**遍历目录树 --> os.walk()**"
   ]
  },
  {
   "cell_type": "code",
   "execution_count": 9,
   "id": "24290fef",
   "metadata": {},
   "outputs": [
    {
     "name": "stdout",
     "output_type": "stream",
     "text": [
      "当前目录路径: C:\\Users\\赵博文\\Python--Learning\\Python-\\Python库的系列讲解\\1.os库\n",
      "目录列表: ['.ipynb_checkpoints']\n",
      "文件列表: ['os库的用法介绍.ipynb']\n",
      "当前目录路径: C:\\Users\\赵博文\\Python--Learning\\Python-\\Python库的系列讲解\\1.os库\\.ipynb_checkpoints\n",
      "目录列表: []\n",
      "文件列表: ['os库的用法介绍-checkpoint.ipynb']\n"
     ]
    }
   ],
   "source": [
    "import os\n",
    "\n",
    "for dirpath, dirnames, filenames in os.walk(current_dir):\n",
    "    print(f\"当前目录路径: {dirpath}\")\n",
    "    print(f\"目录列表: {dirnames}\")\n",
    "    print(f\"文件列表: {filenames}\")"
   ]
  },
  {
   "cell_type": "markdown",
   "id": "6637ca81",
   "metadata": {},
   "source": [
    "**批量重命名文件**"
   ]
  },
  {
   "cell_type": "code",
   "execution_count": 10,
   "id": "ec4840bb",
   "metadata": {},
   "outputs": [],
   "source": [
    "# 批量重命名 .txt 文件为 .doc 文件\n",
    "for filename in os.listdir(\".\"):\n",
    "    if filename.endswith(\".txt\"):\n",
    "        new_name = filename.replace(\".txt\", \".doc\")\n",
    "        os.rename(filename, new_name)\n",
    "        print(f\"{filename} 已重命名为 {new_name}\")\n"
   ]
  },
  {
   "cell_type": "markdown",
   "id": "835d420f",
   "metadata": {},
   "source": [
    "**拼接目录 --> os.path.join()**\n",
    "\n",
    "通常用于对文件夹中某一特定文件进行操作时，方便调取该文件"
   ]
  },
  {
   "cell_type": "code",
   "execution_count": 11,
   "id": "37bea60d",
   "metadata": {},
   "outputs": [
    {
     "name": "stdout",
     "output_type": "stream",
     "text": [
      "完整路径为: os库\\os库的用法介绍\n"
     ]
    }
   ],
   "source": [
    "import os\n",
    "\n",
    "file_path = \"os库的用法介绍\"\n",
    "dir_path = \"os库\"\n",
    "correct_path = os.path.join(dir_path, file_path)\n",
    "print(\"完整路径为:\", correct_path)"
   ]
  },
  {
   "cell_type": "markdown",
   "id": "9764b830",
   "metadata": {},
   "source": [
    "#### 在记忆os库中所需函数时，没有必要死记硬背，很多都是英文的直接翻译，记住英文，大差不差的就记住对应的函数了，可读性和易理解性还是很高的。或者在需要用到时再去查也是很方便的"
   ]
  }
 ],
 "metadata": {
  "kernelspec": {
   "display_name": "Python 3 (ipykernel)",
   "language": "python",
   "name": "python3"
  },
  "language_info": {
   "codemirror_mode": {
    "name": "ipython",
    "version": 3
   },
   "file_extension": ".py",
   "mimetype": "text/x-python",
   "name": "python",
   "nbconvert_exporter": "python",
   "pygments_lexer": "ipython3",
   "version": "3.8.20"
  }
 },
 "nbformat": 4,
 "nbformat_minor": 5
}
